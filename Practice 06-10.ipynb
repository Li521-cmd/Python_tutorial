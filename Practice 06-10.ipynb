{
 "cells": [
  {
   "cell_type": "code",
   "execution_count": 2,
   "metadata": {},
   "outputs": [
    {
     "name": "stdout",
     "output_type": "stream",
     "text": [
      "Hello, World!\n",
      "Hello, World!\n",
      "Hello, World!\n"
     ]
    }
   ],
   "source": [
    "## Python3 注释\n",
    "\n",
    "#Python中单行注释以 # 开头\n",
    "# 这是第一个注释\n",
    "print(\"Hello, World!\")\n",
    "\n",
    "#多行注释用三个单引号 ''' 或者三个双引号 \"\"\" 将注释括起来\n",
    "'''\n",
    "这是第二个注释\n",
    "'''\n",
    "print(\"Hello, World!\")\n",
    "\n",
    "\"\"\"\n",
    "这是第三个注释\n",
    "\"\"\"\n",
    "print(\"Hello, World!\")"
   ]
  },
  {
   "cell_type": "code",
   "execution_count": 3,
   "metadata": {},
   "outputs": [
    {
     "name": "stdout",
     "output_type": "stream",
     "text": [
      "1 - c 的值为： 31\n",
      "2 - c 的值为： 11\n",
      "3 - c 的值为： 210\n",
      "4 - c 的值为： 2.1\n",
      "5 - c 的值为： 1\n",
      "6 - c 的值为： 8\n",
      "7 - c 的值为： 2\n"
     ]
    }
   ],
   "source": [
    "## Python3 运算符\n",
    "#算术运算符\n",
    "a = 21\n",
    "b = 10\n",
    "c = 0\n",
    " \n",
    "c = a + b\n",
    "print (\"1 - c 的值为：\", c)\n",
    " \n",
    "c = a - b\n",
    "print (\"2 - c 的值为：\", c)\n",
    " \n",
    "c = a * b\n",
    "print (\"3 - c 的值为：\", c)\n",
    " \n",
    "c = a / b\n",
    "print (\"4 - c 的值为：\", c)\n",
    " \n",
    "c = a % b\n",
    "print (\"5 - c 的值为：\", c)\n",
    " \n",
    "# 修改变量 a 、b 、c\n",
    "a = 2\n",
    "b = 3\n",
    "c = a**b \n",
    "print (\"6 - c 的值为：\", c)\n",
    " \n",
    "a = 10\n",
    "b = 5\n",
    "c = a//b \n",
    "print (\"7 - c 的值为：\", c)"
   ]
  },
  {
   "cell_type": "code",
   "execution_count": 4,
   "metadata": {},
   "outputs": [
    {
     "name": "stdout",
     "output_type": "stream",
     "text": [
      "1 - a 不等于 b\n",
      "2 - a 不等于 b\n",
      "3 - a 大于等于 b\n",
      "4 - a 大于 b\n",
      "5 - a 小于等于 b\n",
      "6 - b 大于等于 a\n"
     ]
    }
   ],
   "source": [
    "## Python3 运算符\n",
    "#比较运算符\n",
    "a = 21\n",
    "b = 10\n",
    "c = 0\n",
    " \n",
    "if ( a == b ):\n",
    "   print (\"1 - a 等于 b\")\n",
    "else:\n",
    "   print (\"1 - a 不等于 b\")\n",
    " \n",
    "if ( a != b ):\n",
    "   print (\"2 - a 不等于 b\")\n",
    "else:\n",
    "   print (\"2 - a 等于 b\")\n",
    " \n",
    "if ( a < b ):\n",
    "   print (\"3 - a 小于 b\")\n",
    "else:\n",
    "   print (\"3 - a 大于等于 b\")\n",
    " \n",
    "if ( a > b ):\n",
    "   print (\"4 - a 大于 b\")\n",
    "else:\n",
    "   print (\"4 - a 小于等于 b\")\n",
    " \n",
    "# 修改变量 a 和 b 的值\n",
    "a = 5;\n",
    "b = 20;\n",
    "if ( a <= b ):\n",
    "   print (\"5 - a 小于等于 b\")\n",
    "else:\n",
    "   print (\"5 - a 大于  b\")\n",
    " \n",
    "if ( b >= a ):\n",
    "   print (\"6 - b 大于等于 a\")\n",
    "else:\n",
    "   print (\"6 - b 小于 a\")"
   ]
  },
  {
   "cell_type": "code",
   "execution_count": 5,
   "metadata": {},
   "outputs": [
    {
     "name": "stdout",
     "output_type": "stream",
     "text": [
      "1 - c 的值为： 31\n",
      "2 - c 的值为： 52\n",
      "3 - c 的值为： 1092\n",
      "4 - c 的值为： 52.0\n",
      "5 - c 的值为： 2\n",
      "6 - c 的值为： 2097152\n",
      "7 - c 的值为： 99864\n"
     ]
    }
   ],
   "source": [
    "## Python3 运算符\n",
    "#赋值运算符\n",
    "a = 21\n",
    "b = 10\n",
    "c = 0\n",
    " \n",
    "c = a + b\n",
    "print (\"1 - c 的值为：\", c)\n",
    " \n",
    "c += a\n",
    "print (\"2 - c 的值为：\", c)\n",
    " \n",
    "c *= a\n",
    "print (\"3 - c 的值为：\", c)\n",
    " \n",
    "c /= a \n",
    "print (\"4 - c 的值为：\", c)\n",
    " \n",
    "c = 2\n",
    "c %= a\n",
    "print (\"5 - c 的值为：\", c)\n",
    " \n",
    "c **= a\n",
    "print (\"6 - c 的值为：\", c)\n",
    " \n",
    "c //= a\n",
    "print (\"7 - c 的值为：\", c)"
   ]
  },
  {
   "cell_type": "code",
   "execution_count": 6,
   "metadata": {},
   "outputs": [
    {
     "name": "stdout",
     "output_type": "stream",
     "text": [
      "1 - c 的值为： 12\n",
      "2 - c 的值为： 61\n",
      "3 - c 的值为： 49\n",
      "4 - c 的值为： -61\n",
      "5 - c 的值为： 240\n",
      "6 - c 的值为： 15\n"
     ]
    }
   ],
   "source": [
    "## Python3 运算符\n",
    "#位运算符\n",
    "a = 60            # 60 = 0011 1100 \n",
    "b = 13            # 13 = 0000 1101 \n",
    "c = 0\n",
    " \n",
    "c = a & b;        # 12 = 0000 1100\n",
    "print (\"1 - c 的值为：\", c)\n",
    " \n",
    "c = a | b;        # 61 = 0011 1101 \n",
    "print (\"2 - c 的值为：\", c)\n",
    " \n",
    "c = a ^ b;        # 49 = 0011 0001\n",
    "print (\"3 - c 的值为：\", c)\n",
    " \n",
    "c = ~a;           # -61 = 1100 0011\n",
    "print (\"4 - c 的值为：\", c)\n",
    " \n",
    "c = a << 2;       # 240 = 1111 0000\n",
    "print (\"5 - c 的值为：\", c)\n",
    " \n",
    "c = a >> 2;       # 15 = 0000 1111\n",
    "print (\"6 - c 的值为：\", c)"
   ]
  },
  {
   "cell_type": "code",
   "execution_count": 7,
   "metadata": {},
   "outputs": [
    {
     "name": "stdout",
     "output_type": "stream",
     "text": [
      "1 - 变量 a 和 b 都为 true\n",
      "2 - 变量 a 和 b 都为 true，或其中一个变量为 true\n",
      "3 - 变量 a 和 b 有一个不为 true\n",
      "4 - 变量 a 和 b 都为 true，或其中一个变量为 true\n",
      "5 - 变量 a 和 b 都为 false，或其中一个变量为 false\n"
     ]
    }
   ],
   "source": [
    "## Python3 运算符\n",
    "#逻辑运算符\n",
    "a = 10\n",
    "b = 20\n",
    " \n",
    "if ( a and b ):\n",
    "   print (\"1 - 变量 a 和 b 都为 true\")\n",
    "else:\n",
    "   print (\"1 - 变量 a 和 b 有一个不为 true\")\n",
    " \n",
    "if ( a or b ):\n",
    "   print (\"2 - 变量 a 和 b 都为 true，或其中一个变量为 true\")\n",
    "else:\n",
    "   print (\"2 - 变量 a 和 b 都不为 true\")\n",
    " \n",
    "# 修改变量 a 的值\n",
    "a = 0\n",
    "if ( a and b ):\n",
    "   print (\"3 - 变量 a 和 b 都为 true\")\n",
    "else:\n",
    "   print (\"3 - 变量 a 和 b 有一个不为 true\")\n",
    " \n",
    "if ( a or b ):\n",
    "   print (\"4 - 变量 a 和 b 都为 true，或其中一个变量为 true\")\n",
    "else:\n",
    "   print (\"4 - 变量 a 和 b 都不为 true\")\n",
    " \n",
    "if not( a and b ):\n",
    "   print (\"5 - 变量 a 和 b 都为 false，或其中一个变量为 false\")\n",
    "else:\n",
    "   print (\"5 - 变量 a 和 b 都为 true\")"
   ]
  },
  {
   "cell_type": "code",
   "execution_count": 8,
   "metadata": {},
   "outputs": [
    {
     "name": "stdout",
     "output_type": "stream",
     "text": [
      "1 - 变量 a 不在给定的列表中 list 中\n",
      "2 - 变量 b 不在给定的列表中 list 中\n",
      "3 - 变量 a 在给定的列表中 list 中\n"
     ]
    }
   ],
   "source": [
    "## Python3 运算符\n",
    "#成员运算符\n",
    "a = 10\n",
    "b = 20\n",
    "list = [1, 2, 3, 4, 5 ];\n",
    " \n",
    "if ( a in list ):\n",
    "   print (\"1 - 变量 a 在给定的列表中 list 中\")\n",
    "else:\n",
    "   print (\"1 - 变量 a 不在给定的列表中 list 中\")\n",
    " \n",
    "if ( b not in list ):\n",
    "   print (\"2 - 变量 b 不在给定的列表中 list 中\")\n",
    "else:\n",
    "   print (\"2 - 变量 b 在给定的列表中 list 中\")\n",
    " \n",
    "# 修改变量 a 的值\n",
    "a = 2\n",
    "if ( a in list ):\n",
    "   print (\"3 - 变量 a 在给定的列表中 list 中\")\n",
    "else:\n",
    "   print (\"3 - 变量 a 不在给定的列表中 list 中\")"
   ]
  },
  {
   "cell_type": "code",
   "execution_count": 9,
   "metadata": {},
   "outputs": [
    {
     "name": "stdout",
     "output_type": "stream",
     "text": [
      "1 - a 和 b 有相同的标识\n",
      "2 - a 和 b 有相同的标识\n",
      "3 - a 和 b 没有相同的标识\n",
      "4 - a 和 b 没有相同的标识\n"
     ]
    }
   ],
   "source": [
    "## Python3 运算符\n",
    "#身份运算符\n",
    "a = 20\n",
    "b = 20\n",
    " \n",
    "if ( a is b ):\n",
    "   print (\"1 - a 和 b 有相同的标识\")\n",
    "else:\n",
    "   print (\"1 - a 和 b 没有相同的标识\")\n",
    " \n",
    "if ( id(a) == id(b) ):\n",
    "   print (\"2 - a 和 b 有相同的标识\")\n",
    "else:\n",
    "   print (\"2 - a 和 b 没有相同的标识\")\n",
    " \n",
    "# 修改变量 b 的值\n",
    "b = 30\n",
    "if ( a is b ):\n",
    "   print (\"3 - a 和 b 有相同的标识\")\n",
    "else:\n",
    "   print (\"3 - a 和 b 没有相同的标识\")\n",
    " \n",
    "if ( a is not b ):\n",
    "   print (\"4 - a 和 b 没有相同的标识\")\n",
    "else:\n",
    "   print (\"4 - a 和 b 有相同的标识\")"
   ]
  },
  {
   "cell_type": "code",
   "execution_count": 10,
   "metadata": {},
   "outputs": [
    {
     "name": "stdout",
     "output_type": "stream",
     "text": [
      "(a + b) * c / d 运算结果为： 90.0\n",
      "((a + b) * c) / d 运算结果为： 90.0\n",
      "(a + b) * (c / d) 运算结果为： 90.0\n",
      "a + (b * c) / d 运算结果为： 50.0\n"
     ]
    }
   ],
   "source": [
    "## Python3 运算符\n",
    "#运算符优先级\n",
    "a = 20\n",
    "b = 10\n",
    "c = 15\n",
    "d = 5\n",
    "e = 0\n",
    " \n",
    "e = (a + b) * c / d       #( 30 * 15 ) / 5\n",
    "print (\"(a + b) * c / d 运算结果为：\",  e)\n",
    " \n",
    "e = ((a + b) * c) / d     # (30 * 15 ) / 5\n",
    "print (\"((a + b) * c) / d 运算结果为：\",  e)\n",
    " \n",
    "e = (a + b) * (c / d);    # (30) * (15/5)\n",
    "print (\"(a + b) * (c / d) 运算结果为：\",  e)\n",
    " \n",
    "e = a + (b * c) / d;      #  20 + (150/5)\n",
    "print (\"a + (b * c) / d 运算结果为：\",  e)"
   ]
  },
  {
   "cell_type": "code",
   "execution_count": 1,
   "metadata": {},
   "outputs": [
    {
     "name": "stdout",
     "output_type": "stream",
     "text": [
      "2575\n",
      "31\n"
     ]
    }
   ],
   "source": [
    "## Python3 数字\n",
    "#进制\n",
    "number = 0xA0F # 十六进制\n",
    "print(number)\n",
    "\n",
    "number=0o37 # 八进制\n",
    "print(number)"
   ]
  },
  {
   "cell_type": "code",
   "execution_count": 5,
   "metadata": {},
   "outputs": [
    {
     "name": "stdout",
     "output_type": "stream",
     "text": [
      "4\n",
      "20\n",
      "5.0\n",
      "1.6\n",
      "3\n",
      "3.0\n",
      "3.0\n",
      "900\n",
      "25\n",
      "128\n",
      "7.5\n"
     ]
    }
   ],
   "source": [
    "## Python3 数字\n",
    "#数字计算\n",
    "print(2+2)\n",
    "print(50 - 5*6)\n",
    "print((50 - 5*6) / 4)\n",
    "print(8 / 5)  # 总是返回一个浮点数\n",
    "\n",
    "#// 得到的并不一定是整数类型的数，它与分母分子的数据类型有关系。\n",
    "print(7//2)\n",
    "print(7.0//2)\n",
    "print(7//2.0)\n",
    "\n",
    "#等号 = 用于给变量赋值。赋值之后，除了下一个提示符，解释器不会显示任何结果。 \n",
    "width = 20\n",
    "height = 5*9\n",
    "print(width * height)\n",
    "\n",
    "#Python 可以使用 ** 操作来进行幂运算\n",
    "print( 5 ** 2 ) # 5 的平方\n",
    "print(2 ** 7)  # 2的7次方\n",
    "\n",
    "#变量在使用前必须先\"定义\"（即赋予变量一个值），否则会出现错误：\n",
    "\n",
    "#不同类型的数混合运算时会将整数转换为浮点数：\n",
    "print(3 * 3.75 / 1.5)"
   ]
  },
  {
   "cell_type": "code",
   "execution_count": 12,
   "metadata": {},
   "outputs": [
    {
     "name": "stdout",
     "output_type": "stream",
     "text": [
      "var1[0]:  H\n",
      "var2[1:5]:  unoo\n"
     ]
    }
   ],
   "source": [
    "## Python3 字符串\n",
    "#Python 访问字符串中的值\n",
    "var1 = 'Hello World!'\n",
    "var2 = \"Runoob\"\n",
    " \n",
    "print (\"var1[0]: \", var1[0])\n",
    "print (\"var2[1:5]: \", var2[1:5])"
   ]
  },
  {
   "cell_type": "code",
   "execution_count": 13,
   "metadata": {},
   "outputs": [
    {
     "name": "stdout",
     "output_type": "stream",
     "text": [
      "已更新字符串 :  Hello Runoob!\n"
     ]
    }
   ],
   "source": [
    "## Python3 字符串\n",
    "#Python 字符串更新\n",
    "var1 = 'Hello World!'\n",
    "print (\"已更新字符串 : \", var1[:6] + 'Runoob!')"
   ]
  },
  {
   "cell_type": "code",
   "execution_count": 14,
   "metadata": {},
   "outputs": [
    {
     "name": "stdout",
     "output_type": "stream",
     "text": [
      "a + b 输出结果： HelloPython\n",
      "a * 2 输出结果： HelloHello\n",
      "a[1] 输出结果： e\n",
      "a[1:4] 输出结果： ell\n",
      "H 在变量 a 中\n",
      "M 不在变量 a 中\n",
      "\\n\n",
      "\\n\n"
     ]
    }
   ],
   "source": [
    "## Python3 字符串\n",
    "#Python字符串运算符\n",
    "a = \"Hello\"\n",
    "b = \"Python\"\n",
    " \n",
    "print(\"a + b 输出结果：\", a + b)\n",
    "print(\"a * 2 输出结果：\", a * 2)\n",
    "print(\"a[1] 输出结果：\", a[1])\n",
    "print(\"a[1:4] 输出结果：\", a[1:4])\n",
    " \n",
    "if( \"H\" in a) :\n",
    "    print(\"H 在变量 a 中\")\n",
    "else :\n",
    "    print(\"H 不在变量 a 中\")\n",
    " \n",
    "if( \"M\" not in a) :\n",
    "    print(\"M 不在变量 a 中\")\n",
    "else :\n",
    "    print(\"M 在变量 a 中\")\n",
    " \n",
    "print (r'\\n')\n",
    "print (R'\\n')"
   ]
  },
  {
   "cell_type": "code",
   "execution_count": 15,
   "metadata": {},
   "outputs": [
    {
     "name": "stdout",
     "output_type": "stream",
     "text": [
      "我叫 小明 今年 10 岁!\n"
     ]
    }
   ],
   "source": [
    "## Python3 字符串\n",
    "#Python字符串格式化\n",
    "print (\"我叫 %s 今年 %d 岁!\" % ('小明', 10))"
   ]
  },
  {
   "cell_type": "code",
   "execution_count": 16,
   "metadata": {},
   "outputs": [
    {
     "name": "stdout",
     "output_type": "stream",
     "text": [
      "这是一个多行字符串的实例\n",
      "多行字符串可以使用制表符\n",
      "TAB ( \t )。\n",
      "也可以使用换行符 [ \n",
      " ]。\n",
      "\n"
     ]
    }
   ],
   "source": [
    "## Python3 字符串\n",
    "#Python三引号 \n",
    "para_str = \"\"\"这是一个多行字符串的实例\n",
    "多行字符串可以使用制表符\n",
    "TAB ( \\t )。\n",
    "也可以使用换行符 [ \\n ]。\n",
    "\"\"\"\n",
    "print (para_str)"
   ]
  },
  {
   "cell_type": "code",
   "execution_count": null,
   "metadata": {},
   "outputs": [],
   "source": []
  }
 ],
 "metadata": {
  "kernelspec": {
   "display_name": "Python 3",
   "language": "python",
   "name": "python3"
  },
  "language_info": {
   "codemirror_mode": {
    "name": "ipython",
    "version": 3
   },
   "file_extension": ".py",
   "mimetype": "text/x-python",
   "name": "python",
   "nbconvert_exporter": "python",
   "pygments_lexer": "ipython3",
   "version": "3.7.3"
  }
 },
 "nbformat": 4,
 "nbformat_minor": 2
}
