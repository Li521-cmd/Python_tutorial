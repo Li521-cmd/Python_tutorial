{
 "cells": [
  {
   "cell_type": "code",
   "execution_count": 1,
   "metadata": {},
   "outputs": [],
   "source": [
    "## Python3 教程\n",
    "# https://www.runoob.com/python3/python3-tutorial.html\n",
    "\n",
    "# 第一步：安装 Anaconda。\n",
    "# 第二步：在任意目录下，shift+右键，打开 PowerShell。\n",
    "# 第三步：在 PowerShell 中运行 jupyter notebook。\n",
    "# 第四步：新建一个 notebook 文件并保存，然后开始学习。"
   ]
  },
  {
   "cell_type": "code",
   "execution_count": 2,
   "metadata": {},
   "outputs": [],
   "source": [
    "## Python3 教程\n",
    "# 查看 Python 版本\n",
    "# 打开 cmd，输入 python 并回车。输出结果类似如下：\n",
    "\n",
    "# Python 3.7.1 (default, Dec 10 2018, 22:54:23) [MSC v.1915 64 bit (AMD64)] :: Anaconda, Inc. on win32\n",
    "# Type \"help\", \"copyright\", \"credits\" or \"license\" for more information."
   ]
  },
  {
   "cell_type": "code",
   "execution_count": 3,
   "metadata": {},
   "outputs": [
    {
     "name": "stdout",
     "output_type": "stream",
     "text": [
      "Hello, World!\n"
     ]
    }
   ],
   "source": [
    "## Python3 教程\n",
    "\n",
    "# 使用Python输出\"Hello World！\"\n",
    "#!/usr/bin/python3\n",
    " \n",
    "print(\"Hello, World!\")"
   ]
  },
  {
   "cell_type": "code",
   "execution_count": 4,
   "metadata": {},
   "outputs": [
    {
     "data": {
      "text/plain": [
       "['False',\n",
       " 'None',\n",
       " 'True',\n",
       " 'and',\n",
       " 'as',\n",
       " 'assert',\n",
       " 'async',\n",
       " 'await',\n",
       " 'break',\n",
       " 'class',\n",
       " 'continue',\n",
       " 'def',\n",
       " 'del',\n",
       " 'elif',\n",
       " 'else',\n",
       " 'except',\n",
       " 'finally',\n",
       " 'for',\n",
       " 'from',\n",
       " 'global',\n",
       " 'if',\n",
       " 'import',\n",
       " 'in',\n",
       " 'is',\n",
       " 'lambda',\n",
       " 'nonlocal',\n",
       " 'not',\n",
       " 'or',\n",
       " 'pass',\n",
       " 'raise',\n",
       " 'return',\n",
       " 'try',\n",
       " 'while',\n",
       " 'with',\n",
       " 'yield']"
      ]
     },
     "execution_count": 4,
     "metadata": {},
     "output_type": "execute_result"
    }
   ],
   "source": [
    "## Python3 基础语法\n",
    "# python保留字\n",
    "\n",
    "import keyword\n",
    "keyword.kwlist"
   ]
  },
  {
   "cell_type": "code",
   "execution_count": 5,
   "metadata": {},
   "outputs": [
    {
     "name": "stdout",
     "output_type": "stream",
     "text": [
      "Hello, Python!\n"
     ]
    }
   ],
   "source": [
    "## Python3 基础语法\n",
    "#注释\n",
    "#Python中单行注释以 # 开头，多行注释可以用多个 # 号，还有 ''' 和 \"\"\"\n",
    "#!/usr/bin/python3\n",
    " \n",
    "# 第一个注释\n",
    "print (\"Hello, Python!\") # 第二个注释"
   ]
  },
  {
   "cell_type": "code",
   "execution_count": 6,
   "metadata": {},
   "outputs": [
    {
     "name": "stdout",
     "output_type": "stream",
     "text": [
      "True\n"
     ]
    }
   ],
   "source": [
    "## Python3 基础语法\n",
    "#行与缩进\n",
    "\n",
    "if True:\n",
    "    print (\"True\")\n",
    "else:\n",
    "    print (\"False\")"
   ]
  },
  {
   "cell_type": "code",
   "execution_count": 7,
   "metadata": {},
   "outputs": [
    {
     "name": "stdout",
     "output_type": "stream",
     "text": [
      "Runoob\n",
      "Runoo\n",
      "R\n",
      "noo\n",
      "noob\n",
      "RunoobRunoob\n",
      "Runoob你好\n",
      "------------------------------\n",
      "hello\n",
      "runoob\n",
      "hello\\nrunoob\n"
     ]
    }
   ],
   "source": [
    "## Python3 基础语法\n",
    "#字符串(String)\n",
    "\n",
    "#!/usr/bin/python3\n",
    " \n",
    "str='Runoob'\n",
    " \n",
    "print(str)                 # 输出字符串\n",
    "print(str[0:-1])           # 输出第一个到倒数第二个的所有字符\n",
    "print(str[0])              # 输出字符串第一个字符\n",
    "print(str[2:5])            # 输出从第三个开始到第五个的字符\n",
    "print(str[2:])             # 输出从第三个开始的后的所有字符\n",
    "print(str * 2)             # 输出字符串两次\n",
    "print(str + '你好')        # 连接字符串\n",
    " \n",
    "print('------------------------------')\n",
    " \n",
    "print('hello\\nrunoob')      # 使用反斜杠(\\)+n转义特殊字符\n",
    "print(r'hello\\nrunoob')     # 在字符串前面添加一个 r，表示原始字符串，不会发生转义"
   ]
  },
  {
   "cell_type": "code",
   "execution_count": 8,
   "metadata": {},
   "outputs": [
    {
     "name": "stdout",
     "output_type": "stream",
     "text": [
      "a\n",
      "b\n",
      "---------\n",
      "a b \n"
     ]
    }
   ],
   "source": [
    "## Python3 基础语法\n",
    "#!/usr/bin/python3\n",
    " \n",
    "x=\"a\"\n",
    "y=\"b\"\n",
    "# 换行输出\n",
    "print( x )\n",
    "print( y )\n",
    " \n",
    "print('---------')\n",
    "# 不换行输出\n",
    "print( x, end=\" \" )\n",
    "print( y, end=\" \" )\n",
    "print()"
   ]
  },
  {
   "cell_type": "code",
   "execution_count": 9,
   "metadata": {},
   "outputs": [
    {
     "name": "stdout",
     "output_type": "stream",
     "text": [
      "================Python import mode==========================\n",
      "命令行参数为:\n",
      "G:\\Python\\Anaconda\\lib\\site-packages\\ipykernel_launcher.py\n",
      "-f\n",
      "C:\\Users\\admin\\AppData\\Roaming\\jupyter\\runtime\\kernel-45020aeb-04ef-45d3-b2ea-82681c1b8267.json\n",
      "\n",
      " python 路径为： ['C:\\\\Users\\\\admin', 'G:\\\\Python\\\\Anaconda\\\\python37.zip', 'G:\\\\Python\\\\Anaconda\\\\DLLs', 'G:\\\\Python\\\\Anaconda\\\\lib', 'G:\\\\Python\\\\Anaconda', '', 'G:\\\\Python\\\\Anaconda\\\\lib\\\\site-packages', 'G:\\\\Python\\\\Anaconda\\\\lib\\\\site-packages\\\\win32', 'G:\\\\Python\\\\Anaconda\\\\lib\\\\site-packages\\\\win32\\\\lib', 'G:\\\\Python\\\\Anaconda\\\\lib\\\\site-packages\\\\Pythonwin', 'G:\\\\Python\\\\Anaconda\\\\lib\\\\site-packages\\\\IPython\\\\extensions', 'C:\\\\Users\\\\admin\\\\.ipython']\n"
     ]
    }
   ],
   "source": [
    "## Python3 基础语法\n",
    "# 导入 sys 模块\n",
    "import sys\n",
    "print('================Python import mode==========================');\n",
    "print ('命令行参数为:')\n",
    "for i in sys.argv:\n",
    "    print (i)\n",
    "print ('\\n python 路径为：',sys.path)"
   ]
  },
  {
   "cell_type": "code",
   "execution_count": 10,
   "metadata": {},
   "outputs": [
    {
     "name": "stdout",
     "output_type": "stream",
     "text": [
      "================python from import===================================\n",
      "path: ['C:\\\\Users\\\\admin', 'G:\\\\Python\\\\Anaconda\\\\python37.zip', 'G:\\\\Python\\\\Anaconda\\\\DLLs', 'G:\\\\Python\\\\Anaconda\\\\lib', 'G:\\\\Python\\\\Anaconda', '', 'G:\\\\Python\\\\Anaconda\\\\lib\\\\site-packages', 'G:\\\\Python\\\\Anaconda\\\\lib\\\\site-packages\\\\win32', 'G:\\\\Python\\\\Anaconda\\\\lib\\\\site-packages\\\\win32\\\\lib', 'G:\\\\Python\\\\Anaconda\\\\lib\\\\site-packages\\\\Pythonwin', 'G:\\\\Python\\\\Anaconda\\\\lib\\\\site-packages\\\\IPython\\\\extensions', 'C:\\\\Users\\\\admin\\\\.ipython']\n"
     ]
    }
   ],
   "source": [
    "## Python3 基础语法\n",
    "# 导入 sys 模块的 argv,path 成员\n",
    "from sys import argv,path  #  导入特定的成员\n",
    "print('================python from import===================================')\n",
    "print('path:',path) # 因为已经导入path成员，所以此处引用时不需要加sys.path"
   ]
  },
  {
   "cell_type": "code",
   "execution_count": 11,
   "metadata": {},
   "outputs": [
    {
     "name": "stdout",
     "output_type": "stream",
     "text": [
      "100\n",
      "1000.0\n",
      "runoob\n"
     ]
    }
   ],
   "source": [
    "## Python3 基本数据类型\n",
    "counter = 100          # 整型变量\n",
    "miles   = 1000.0       # 浮点型变量\n",
    "name    = \"runoob\"     # 字符串\n",
    " \n",
    "print (counter)\n",
    "print (miles)\n",
    "print (name)"
   ]
  },
  {
   "cell_type": "code",
   "execution_count": 12,
   "metadata": {},
   "outputs": [
    {
     "name": "stdout",
     "output_type": "stream",
     "text": [
      "<class 'int'> <class 'float'> <class 'bool'> <class 'complex'>\n",
      "True \b, False\n"
     ]
    }
   ],
   "source": [
    "## Python3 基本数据类型\n",
    "# 数值类型\n",
    "a, b, c, d = 20, 5.5, True, 4+3j\n",
    "print(type(a), type(b), type(c), type(d))\n",
    "print(isinstance(a, int),'\\b,', isinstance(a, bool))"
   ]
  },
  {
   "cell_type": "code",
   "execution_count": 13,
   "metadata": {},
   "outputs": [
    {
     "name": "stdout",
     "output_type": "stream",
     "text": [
      "8\n",
      "-2\n",
      "15\n",
      "0.6\n",
      "1\n",
      "2\n",
      "243\n"
     ]
    }
   ],
   "source": [
    "## Python3 基本数据类型\n",
    "# 数值运算\n",
    "\n",
    "print(3+5) # 加\n",
    "print(3-5) # 减\n",
    "print(3*5) # 乘\n",
    "print(3/5) # 除\n",
    "print(5//3) # 除，取整\n",
    "print(5%3) # 取余\n",
    "print(3**5) # 幂"
   ]
  },
  {
   "cell_type": "code",
   "execution_count": 14,
   "metadata": {},
   "outputs": [
    {
     "name": "stdout",
     "output_type": "stream",
     "text": [
      "Runoob\n",
      "Runoo\n",
      "R\n",
      "noo\n",
      "noob\n",
      "RunoobRunoob\n",
      "RunoobTEST\n"
     ]
    }
   ],
   "source": [
    "## Python3 基本数据类型\n",
    "# 字符串\n",
    "\n",
    "#!/usr/bin/python3\n",
    " \n",
    "str = 'Runoob'\n",
    " \n",
    "print (str)          # 输出字符串\n",
    "print (str[0:-1])    # 输出第一个到倒数第二个的所有字符\n",
    "print (str[0])       # 输出字符串第一个字符\n",
    "print (str[2:5])     # 输出从第三个开始到第五个的字符\n",
    "print (str[2:])      # 输出从第三个开始的后的所有字符\n",
    "print (str * 2)      # 输出字符串两次\n",
    "print (str + \"TEST\") # 连接字符串"
   ]
  },
  {
   "cell_type": "code",
   "execution_count": 15,
   "metadata": {},
   "outputs": [
    {
     "name": "stdout",
     "output_type": "stream",
     "text": [
      "['abcd', 786, 2.23, 'runoob', 70.2]\n",
      "abcd\n",
      "[786, 2.23]\n",
      "[2.23, 'runoob', 70.2]\n",
      "[123, 'runoob', 123, 'runoob']\n",
      "['abcd', 786, 2.23, 'runoob', 70.2, 123, 'runoob']\n"
     ]
    }
   ],
   "source": [
    "## Python3 基本数据类型\n",
    "# 列表\n",
    "list = [ 'abcd', 786 , 2.23, 'runoob', 70.2 ]\n",
    "tinylist = [123, 'runoob']\n",
    " \n",
    "print (list)            # 输出完整列表\n",
    "print (list[0])         # 输出列表第一个元素\n",
    "print (list[1:3])       # 从第二个开始输出到第三个元素\n",
    "print (list[2:])        # 输出从第三个元素开始的所有元素\n",
    "print (tinylist * 2)    # 输出两次列表\n",
    "print (list + tinylist) # 连接列表"
   ]
  },
  {
   "cell_type": "code",
   "execution_count": 1,
   "metadata": {},
   "outputs": [
    {
     "name": "stdout",
     "output_type": "stream",
     "text": [
      "('abcd', 786, 2.23, 'runoob', 70.2)\n",
      "abcd\n",
      "(786, 2.23)\n",
      "(2.23, 'runoob', 70.2)\n",
      "(123, 'runoob', 123, 'runoob')\n",
      "('abcd', 786, 2.23, 'runoob', 70.2, 123, 'runoob')\n"
     ]
    }
   ],
   "source": [
    "## Python3 基本数据类型\n",
    "#Tuple（元组）\n",
    "\n",
    "tuple = ( 'abcd', 786 , 2.23, 'runoob', 70.2  )\n",
    "tinytuple = (123, 'runoob')\n",
    " \n",
    "print (tuple)             # 输出完整元组\n",
    "print (tuple[0])          # 输出元组的第一个元素\n",
    "print (tuple[1:3])        # 输出从第二个元素开始到第三个元素\n",
    "print (tuple[2:])         # 输出从第三个元素开始的所有元素\n",
    "print (tinytuple * 2)     # 输出两次元组\n",
    "print (tuple + tinytuple) # 连接元组"
   ]
  },
  {
   "cell_type": "code",
   "execution_count": 17,
   "metadata": {},
   "outputs": [
    {
     "name": "stdout",
     "output_type": "stream",
     "text": [
      "{'Jack', 'Mary', 'Rose', 'Tom', 'Jim'}\n",
      "Rose 在集合中\n",
      "{'a', 'c', 'd', 'b', 'r'}\n",
      "{'d', 'b', 'r'}\n",
      "{'z', 'm', 'a', 'c', 'd', 'b', 'r', 'l'}\n",
      "{'a', 'c'}\n",
      "{'z', 'm', 'l', 'b', 'r', 'd'}\n"
     ]
    }
   ],
   "source": [
    "## Python3 基本数据类型\n",
    "#Set（集合）\n",
    "student = {'Tom', 'Jim', 'Mary', 'Tom', 'Jack', 'Rose'}\n",
    " \n",
    "print(student)   # 输出集合，重复的元素被自动去掉\n",
    " \n",
    "# 成员测试\n",
    "if 'Rose' in student :\n",
    "    print('Rose 在集合中')\n",
    "else :\n",
    "    print('Rose 不在集合中')\n",
    " \n",
    " \n",
    "# set可以进行集合运算\n",
    "a = set('abracadabra')\n",
    "b = set('alacazam')\n",
    " \n",
    "print(a)\n",
    " \n",
    "print(a - b)     # a 和 b 的差集\n",
    " \n",
    "print(a | b)     # a 和 b 的并集\n",
    " \n",
    "print(a & b)     # a 和 b 的交集\n",
    " \n",
    "print(a ^ b)     # a 和 b 中不同时存在的元素"
   ]
  },
  {
   "cell_type": "code",
   "execution_count": 18,
   "metadata": {},
   "outputs": [
    {
     "name": "stdout",
     "output_type": "stream",
     "text": [
      "1 - 菜鸟教程\n",
      "2 - 菜鸟工具\n",
      "{'name': 'runoob', 'code': 1, 'site': 'www.runoob.com'}\n",
      "dict_keys(['name', 'code', 'site'])\n",
      "dict_values(['runoob', 1, 'www.runoob.com'])\n"
     ]
    }
   ],
   "source": [
    "## Python3 基本数据类型\n",
    "#Dictionary（字典）\n",
    "dict = {}\n",
    "dict['one'] = \"1 - 菜鸟教程\"\n",
    "dict[2]     = \"2 - 菜鸟工具\"\n",
    " \n",
    "tinydict = {'name': 'runoob','code':1, 'site': 'www.runoob.com'}\n",
    " \n",
    " \n",
    "print (dict['one'])       # 输出键为 'one' 的值\n",
    "print (dict[2])           # 输出键为 2 的值\n",
    "print (tinydict)          # 输出完整的字典\n",
    "print (tinydict.keys())   # 输出所有键\n",
    "print (tinydict.values()) # 输出所有值"
   ]
  },
  {
   "cell_type": "code",
   "execution_count": null,
   "metadata": {},
   "outputs": [],
   "source": []
  }
 ],
 "metadata": {
  "kernelspec": {
   "display_name": "Python 3",
   "language": "python",
   "name": "python3"
  },
  "language_info": {
   "codemirror_mode": {
    "name": "ipython",
    "version": 3
   },
   "file_extension": ".py",
   "mimetype": "text/x-python",
   "name": "python",
   "nbconvert_exporter": "python",
   "pygments_lexer": "ipython3",
   "version": "3.7.3"
  }
 },
 "nbformat": 4,
 "nbformat_minor": 2
}
