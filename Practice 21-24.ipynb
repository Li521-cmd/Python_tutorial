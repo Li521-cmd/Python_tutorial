{
 "cells": [
  {
   "cell_type": "code",
   "execution_count": 1,
   "metadata": {},
   "outputs": [
    {
     "name": "stdout",
     "output_type": "stream",
     "text": [
      "命令行参数如下:\n",
      "G:\\Python\\Anaconda\\lib\\site-packages\\ipykernel_launcher.py\n",
      "-f\n",
      "C:\\Users\\admin\\AppData\\Roaming\\jupyter\\runtime\\kernel-27f8a511-0ff0-47e4-a658-523d9d698111.json\n",
      "\n",
      "\n",
      "Python 路径为： ['C:\\\\Users\\\\admin', 'G:\\\\Python\\\\Anaconda\\\\python37.zip', 'G:\\\\Python\\\\Anaconda\\\\DLLs', 'G:\\\\Python\\\\Anaconda\\\\lib', 'G:\\\\Python\\\\Anaconda', '', 'G:\\\\Python\\\\Anaconda\\\\lib\\\\site-packages', 'G:\\\\Python\\\\Anaconda\\\\lib\\\\site-packages\\\\win32', 'G:\\\\Python\\\\Anaconda\\\\lib\\\\site-packages\\\\win32\\\\lib', 'G:\\\\Python\\\\Anaconda\\\\lib\\\\site-packages\\\\Pythonwin', 'G:\\\\Python\\\\Anaconda\\\\lib\\\\site-packages\\\\IPython\\\\extensions', 'C:\\\\Users\\\\admin\\\\.ipython'] \n",
      "\n"
     ]
    }
   ],
   "source": [
    "## Python3 模块\n",
    "# 文件名: using_sys.py\n",
    " \n",
    "import sys\n",
    " \n",
    "print('命令行参数如下:')\n",
    "for i in sys.argv:\n",
    "   print(i)\n",
    " \n",
    "print('\\n\\nPython 路径为：', sys.path, '\\n')"
   ]
  },
  {
   "cell_type": "code",
   "execution_count": null,
   "metadata": {},
   "outputs": [],
   "source": [
    "## Python3 模块\n",
    "#在解释器的当前目录或者 sys.path 中的一个目录里面来创建一个fibo.py的文件\n",
    "\n",
    "# 斐波那契(fibonacci)数列模块\n",
    " \n",
    "def fib(n):    # 定义到 n 的斐波那契数列\n",
    "    a, b = 0, 1\n",
    "    while b < n:\n",
    "        print(b, end=' ')\n",
    "        a, b = b, a+b\n",
    "    print()\n",
    " \n",
    "def fib2(n): # 返回到 n 的斐波那契数列\n",
    "    result = []\n",
    "    a, b = 0, 1\n",
    "    while b < n:\n",
    "        result.append(b)\n",
    "        a, b = b, a+b\n",
    "    return result\n",
    "\n",
    "#可以使用模块名称来访问函数\n",
    "\n",
    "prnt(fibo.fib(1000))\n",
    "print(fibo.fib2(100))\n",
    "print(fibo.__name__)"
   ]
  },
  {
   "cell_type": "code",
   "execution_count": 2,
   "metadata": {},
   "outputs": [
    {
     "name": "stdout",
     "output_type": "stream",
     "text": [
      "程序自身在运行\n"
     ]
    }
   ],
   "source": [
    "## Python3 模块\n",
    "#__name__属性\n",
    "# Filename: using_name.py\n",
    "\n",
    "if __name__ == '__main__':\n",
    "   print('程序自身在运行')\n",
    "else:\n",
    "   print('我来自另一模块')"
   ]
  },
  {
   "cell_type": "code",
   "execution_count": 3,
   "metadata": {},
   "outputs": [
    {
     "name": "stdout",
     "output_type": "stream",
     "text": [
      "Hello, Runoob\n",
      "'Hello, Runoob'\n"
     ]
    }
   ],
   "source": [
    "##Python3 输入和输出\n",
    "#输出格式美化\n",
    "s = 'Hello, Runoob'\n",
    "#str()： 函数返回一个用户易读的表达形式\n",
    "print(str(s))\n",
    "#repr()： 产生一个解释器易读的表达形式\n",
    "print(repr(s))"
   ]
  },
  {
   "cell_type": "code",
   "execution_count": 4,
   "metadata": {},
   "outputs": [
    {
     "name": "stdout",
     "output_type": "stream",
     "text": [
      "00012\n",
      "-003.14\n",
      "3.14159265359\n",
      "Google 和 Runoob\n",
      "Runoob 和 Google\n",
      "菜鸟教程网址： www.runoob.com\n",
      "站点列表 Google, Runoob, 和 Taobao。\n",
      "常量 PI 的值近似为： 3.141592653589793。\n",
      "常量 PI 的值近似为： 3.141592653589793。\n",
      "常量 PI 的值近似为 3.142。\n"
     ]
    }
   ],
   "source": [
    "##Python3 输入和输出\n",
    "#输出基础操作\n",
    "\n",
    "#方法 zfill(), 它会在数字的左边填充 0\n",
    "print('12'.zfill(5))\n",
    "print('-3.14'.zfill(7))\n",
    "print('3.14159265359'.zfill(5))\n",
    "\n",
    "#括号及其里面的字符 (称作格式化字段) 将会被 format() 中的参数替换。\n",
    "#在括号中的数字用于指向传入对象在 format() 中的位置\n",
    "print('{0} 和 {1}'.format('Google', 'Runoob'))\n",
    "print('{1} 和 {0}'.format('Google', 'Runoob'))\n",
    "\n",
    "#如果在 format() 中使用了关键字参数, 那么它们的值会指向使用该名字的参数。\n",
    "print('{name}网址： {site}'.format(name='菜鸟教程', site='www.runoob.com'))\n",
    "\n",
    "#位置及关键字参数可以任意的结合: \n",
    "print('站点列表 {0}, {1}, 和 {other}。'.format('Google', 'Runoob', other='Taobao'))\n",
    "\n",
    "#!a (使用 ascii()), !s (使用 str()) 和 !r (使用 repr()) 可以用于在格式化某个值之前对其进行转化:\n",
    "import math\n",
    "print('常量 PI 的值近似为： {}。'.format(math.pi))\n",
    "print('常量 PI 的值近似为： {!r}。'.format(math.pi))\n",
    "\n",
    "#可选项 : 和格式标识符可以跟着字段名。 这就允许对值进行更好的格式化。 下面的例子将 Pi 保留到小数点后三位： \n",
    "print('常量 PI 的值近似为 {0:.3f}。'.format(math.pi))"
   ]
  },
  {
   "cell_type": "code",
   "execution_count": 5,
   "metadata": {},
   "outputs": [
    {
     "name": "stdout",
     "output_type": "stream",
     "text": [
      "请输入：好好学习，天天向上\n",
      "你输入的内容是:  好好学习，天天向上\n"
     ]
    }
   ],
   "source": [
    "##Python3 输入和输出\n",
    "#读取键盘输入\n",
    "str = input(\"请输入：\");\n",
    "print (\"你输入的内容是: \", str)"
   ]
  },
  {
   "cell_type": "code",
   "execution_count": 7,
   "metadata": {},
   "outputs": [],
   "source": [
    "##Python3 输入和输出\n",
    "#读和写文件 \n",
    "# 打开一个文件\n",
    "f = open(\"b.txt\", \"w\")\n",
    "\n",
    "f.write( \"Python 是一个非常好的语言。\\n是的，的确非常好!!\\n\" )\n",
    "\n",
    "# 关闭打开的文件\n",
    "f.close()"
   ]
  },
  {
   "cell_type": "code",
   "execution_count": 8,
   "metadata": {},
   "outputs": [
    {
     "name": "stdout",
     "output_type": "stream",
     "text": [
      "Python 是一个非常好的语言。\n",
      "是的，的确非常好!!\n",
      "\n"
     ]
    }
   ],
   "source": [
    "##Python3 输入和输出\n",
    "#读和写文件 \n",
    "#f.read()\n",
    "# 打开一个文件\n",
    "f = open(\"b.txt\", \"r\")\n",
    "\n",
    "str = f.read()\n",
    "print(str)\n",
    "\n",
    "# 关闭打开的文件\n",
    "f.close()"
   ]
  },
  {
   "cell_type": "code",
   "execution_count": 10,
   "metadata": {},
   "outputs": [
    {
     "name": "stdout",
     "output_type": "stream",
     "text": [
      "Python 是一个非常好的语言。\n",
      "\n"
     ]
    }
   ],
   "source": [
    "##Python3 输入和输出\n",
    "#读和写文件 \n",
    "#f.readline()\n",
    "# 打开一个文件\n",
    "f = open(\"b.txt\", \"r\")\n",
    "\n",
    "str = f.readline()\n",
    "print(str)\n",
    "\n",
    "# 关闭打开的文件\n",
    "f.close()"
   ]
  },
  {
   "cell_type": "code",
   "execution_count": 11,
   "metadata": {},
   "outputs": [
    {
     "name": "stdout",
     "output_type": "stream",
     "text": [
      "['Python 是一个非常好的语言。\\n', '是的，的确非常好!!\\n']\n"
     ]
    }
   ],
   "source": [
    "##Python3 输入和输出\n",
    "#读和写文件 \n",
    "#f.readlines()\n",
    "# 打开一个文件\n",
    "f = open(\"b.txt\", \"r\")\n",
    "\n",
    "str = f.readlines()\n",
    "print(str)\n",
    "\n",
    "# 关闭打开的文件\n",
    "f.close()"
   ]
  },
  {
   "cell_type": "code",
   "execution_count": null,
   "metadata": {},
   "outputs": [],
   "source": [
    "##Python3 输入和输出\n",
    "#pickle 模块 \n",
    "\n",
    "#基本接口\n",
    "pickle.dump(obj, file, [,protocol])\n",
    "\n",
    "import pickle\n",
    "\n",
    "# 使用pickle模块将数据对象保存到文件\n",
    "data1 = {'a': [1, 2.0, 3, 4+6j],\n",
    "         'b': ('string', u'Unicode string'),\n",
    "         'c': None}\n",
    "\n",
    "selfref_list = [1, 2, 3]\n",
    "selfref_list.append(selfref_list)\n",
    "\n",
    "output = open('data.pkl', 'wb')\n",
    "\n",
    "# Pickle dictionary using protocol 0.\n",
    "pickle.dump(data1, output)\n",
    "\n",
    "# Pickle the list using the highest protocol available.\n",
    "pickle.dump(selfref_list, output, -1)\n",
    "\n",
    "output.close()"
   ]
  }
 ],
 "metadata": {
  "kernelspec": {
   "display_name": "Python 3",
   "language": "python",
   "name": "python3"
  },
  "language_info": {
   "codemirror_mode": {
    "name": "ipython",
    "version": 3
   },
   "file_extension": ".py",
   "mimetype": "text/x-python",
   "name": "python",
   "nbconvert_exporter": "python",
   "pygments_lexer": "ipython3",
   "version": "3.7.3"
  }
 },
 "nbformat": 4,
 "nbformat_minor": 2
}
